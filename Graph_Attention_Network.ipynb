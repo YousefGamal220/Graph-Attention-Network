{
  "nbformat": 4,
  "nbformat_minor": 0,
  "metadata": {
    "colab": {
      "provenance": []
    },
    "kernelspec": {
      "name": "python3",
      "display_name": "Python 3"
    },
    "language_info": {
      "name": "python"
    },
    "accelerator": "GPU",
    "gpuClass": "standard"
  },
  "cells": [
    {
      "cell_type": "code",
      "execution_count": 1,
      "metadata": {
        "colab": {
          "base_uri": "https://localhost:8080/"
        },
        "id": "1MhBKYhfrEWd",
        "outputId": "38800ab8-04c6-4489-bcaf-f041cebabc13"
      },
      "outputs": [
        {
          "output_type": "stream",
          "name": "stdout",
          "text": [
            "\u001b[2K     \u001b[90m━━━━━━━━━━━━━━━━━━━━━━━━━━━━━━━━━━━━━━━━\u001b[0m \u001b[32m9.4/9.4 MB\u001b[0m \u001b[31m59.9 MB/s\u001b[0m eta \u001b[36m0:00:00\u001b[0m\n",
            "\u001b[2K     \u001b[90m━━━━━━━━━━━━━━━━━━━━━━━━━━━━━━━━━━━━━━━━\u001b[0m \u001b[32m4.5/4.5 MB\u001b[0m \u001b[31m27.2 MB/s\u001b[0m eta \u001b[36m0:00:00\u001b[0m\n",
            "\u001b[?25h  Installing build dependencies ... \u001b[?25l\u001b[?25hdone\n",
            "  Getting requirements to build wheel ... \u001b[?25l\u001b[?25hdone\n",
            "  Preparing metadata (pyproject.toml) ... \u001b[?25l\u001b[?25hdone\n",
            "  Building wheel for torch-geometric (pyproject.toml) ... \u001b[?25l\u001b[?25hdone\n"
          ]
        }
      ],
      "source": [
        "!pip install -q torch-scatter -f https://data.pyg.org/whl/torch-{torch.__version__}.html\n",
        "!pip install -q torch-sparse -f https://data.pyg.org/whl/torch-{torch.__version__}.html\n",
        "!pip install -q git+https://github.com/pyg-team/pytorch_geometric.git\n"
      ]
    },
    {
      "cell_type": "code",
      "source": [
        "from torch_geometric.datasets import Planetoid\n",
        "\n",
        "# Import dataset from PyTorch Geometric\n",
        "dataset = Planetoid(root=\".\", name=\"CiteSeer\")\n",
        "data = dataset[0]\n",
        "\n",
        "# Print information about the dataset\n",
        "print(f'Number of graphs: {len(dataset)}')\n",
        "print(f'Number of nodes: {data.x.shape[0]}')\n",
        "print(f'Number of features: {dataset.num_features}')\n",
        "print(f'Number of classes: {dataset.num_classes}')\n",
        "print(f'Has isolated nodes: {data.has_isolated_nodes()}')"
      ],
      "metadata": {
        "colab": {
          "base_uri": "https://localhost:8080/"
        },
        "id": "f75iDDUCrNgX",
        "outputId": "2825a446-519b-4ef9-eb98-72e5cf6560ce"
      },
      "execution_count": 3,
      "outputs": [
        {
          "output_type": "stream",
          "name": "stderr",
          "text": [
            "Downloading https://github.com/kimiyoung/planetoid/raw/master/data/ind.citeseer.x\n",
            "Downloading https://github.com/kimiyoung/planetoid/raw/master/data/ind.citeseer.tx\n",
            "Downloading https://github.com/kimiyoung/planetoid/raw/master/data/ind.citeseer.allx\n",
            "Downloading https://github.com/kimiyoung/planetoid/raw/master/data/ind.citeseer.y\n",
            "Downloading https://github.com/kimiyoung/planetoid/raw/master/data/ind.citeseer.ty\n",
            "Downloading https://github.com/kimiyoung/planetoid/raw/master/data/ind.citeseer.ally\n",
            "Downloading https://github.com/kimiyoung/planetoid/raw/master/data/ind.citeseer.graph\n",
            "Downloading https://github.com/kimiyoung/planetoid/raw/master/data/ind.citeseer.test.index\n",
            "Processing...\n"
          ]
        },
        {
          "output_type": "stream",
          "name": "stdout",
          "text": [
            "Number of graphs: 1\n",
            "Number of nodes: 3327\n",
            "Number of features: 3703\n",
            "Number of classes: 6\n",
            "Has isolated nodes: True\n"
          ]
        },
        {
          "output_type": "stream",
          "name": "stderr",
          "text": [
            "Done!\n"
          ]
        }
      ]
    },
    {
      "cell_type": "code",
      "source": [
        "import torch\n",
        "import torch.nn as nn\n",
        "from tqdm import tqdm\n",
        "\n",
        "import torch.nn.functional as F\n",
        "from torch.nn import Linear, Dropout\n",
        "from torch_geometric.nn import GCNConv, GATv2Conv\n",
        "\n",
        "import numpy as np\n",
        "np.random.seed(0)\n",
        "\n",
        "# Visualization\n",
        "import networkx as nx\n",
        "from sklearn.manifold import TSNE\n",
        "import matplotlib.pyplot as plt\n",
        "plt.rcParams['figure.dpi'] = 300\n",
        "plt.rcParams.update({'font.size': 24})\n",
        "\n",
        "DEVICE = torch.device(\"cuda\" if torch.cuda.is_available() else \"cpu\")\n",
        "\n",
        "class GraphAttentionNetwork(nn.Module):\n",
        "    def __init__(self, num_features : int, h_dim : int, num_classes : int, num_heads : int = 8):\n",
        "        super().__init__()\n",
        "        self.gat1 : GATv2Conv = GATv2Conv(num_features, h_dim * num_heads)\n",
        "        self.gat2 : GATv2Conv = GATv2Conv(h_dim * num_heads, num_classes)\n",
        "\n",
        "        self.__criterion = None\n",
        "        self.__losses = None\n",
        "        self.__optimizer = None\n",
        "    \n",
        "    def forward(self, x, edge_index):\n",
        "        h = F.dropout(x, p=0.6, training=self.training)\n",
        "        h = self.gat1(h, edge_index)\n",
        "        h = F.elu(h)\n",
        "        h = F.dropout(h, p=0.6, training=self.training)\n",
        "        h = self.gat2(h, edge_index)\n",
        "        return h, F.log_softmax(h, dim=1)\n",
        "\n",
        "    def compile(self, criterion : nn.Module, optimizer : str, lr : float = 0.001):\n",
        "        self.__criterion = criterion\n",
        "        \n",
        "        if optimizer.lower() == 'adam':\n",
        "            self.__optimizer = torch.optim.Adam(self.parameters(), lr = lr)\n",
        "\n",
        "        else: # default\n",
        "            self.__optimizer = torch.optim.Adam(self.parameters(), lr = lr)\n",
        "    \n",
        "    def accuracy(self, pred_y, y):\n",
        "        return ((pred_y == y).sum() / len(y)).item()\n",
        "    \n",
        "    def fit(self, data, epochs):\n",
        "        self.losses = []\n",
        "        if self.__criterion == None:\n",
        "            print(f\"You Should Compile the model first using model.compile()\")\n",
        "            return\n",
        "        \n",
        "        self.train()\n",
        "\n",
        "        training_losses = []\n",
        "        validation_losses = []\n",
        "\n",
        "        train_accuracy = []\n",
        "        validation_accuracy = []\n",
        "\n",
        "        for epoch in tqdm(range(epochs+1)):\n",
        "            self.__optimizer.zero_grad()\n",
        "            _, output = self(data.x, data.edge_index)\n",
        "            loss = self.__criterion(output[data.val_mask], data.y[data.val_mask])\n",
        "            acc = self.accuracy(output[data.train_mask].argmax(dim=1), data.y[data.train_mask])\n",
        "\n",
        "            loss.backward()\n",
        "            self.__optimizer.step()\n",
        "\n",
        "            val_loss = self.__criterion(output[data.val_mask], data.y[data.val_mask])\n",
        "            val_acc = self.accuracy(output[data.val_mask].argmax(dim=1), data.y[data.val_mask])\n",
        "\n",
        "            training_losses.append(loss)\n",
        "            validation_losses.append(val_loss)\n",
        "\n",
        "            train_accuracy.append(acc)\n",
        "            validation_accuracy.append(val_acc)\n",
        "\n",
        "            self.losses.append((loss, val_loss))\n",
        "            if(epoch % 10 == 0):\n",
        "                print(f'Epoch {epoch:>3} | Train Loss: {loss:.3f} | Train Acc: '\n",
        "                    f'{acc*100:>6.2f}% | Val Loss: {val_loss:.2f} | '\n",
        "                    f'Val Acc: {val_acc*100:.2f}%')\n",
        "        \n",
        "\n",
        "        return {\n",
        "            \"training_loss\" : training_losses,\n",
        "            \"validation_loss\" : validation_losses,\n",
        "            \"training_accuracy\" : train_accuracy,\n",
        "            \"validation_accuracy\" : validation_accuracy\n",
        "        }\n",
        "\n",
        "    \n",
        "    @torch.no_grad()\n",
        "    def test(self, data):\n",
        "        model.eval()\n",
        "        _, output = self(data.x, data.edge_index)\n",
        "        acc = self.accuracy(output.argmax(dim=1)[data.test_mask], data.y[data.test_mask])\n",
        "        return acc\n",
        "\n",
        "    def visualize_graph(self, data):\n",
        "        h, _ = self(data.x, data.edge_index)\n",
        "        tsne = TSNE(n_components=2, learning_rate='auto',\n",
        "         init='pca').fit_transform(h.detach())\n",
        "\n",
        "        # Plot TSNE\n",
        "        plt.figure(figsize=(10, 10))\n",
        "        plt.axis('off')\n",
        "        plt.scatter(tsne[:, 0], tsne[:, 1], s=50, c=data.y)\n",
        "        plt.show()\n",
        "    \n",
        "    \n"
      ],
      "metadata": {
        "id": "rY1fkXlix5EH"
      },
      "execution_count": 12,
      "outputs": []
    },
    {
      "cell_type": "code",
      "source": [
        "model = GraphAttentionNetwork(dataset.num_features, 8, dataset.num_classes).to(DEVICE)"
      ],
      "metadata": {
        "id": "xWGkkq-YLs7o"
      },
      "execution_count": 18,
      "outputs": []
    },
    {
      "cell_type": "code",
      "source": [
        "criterion = torch.nn.CrossEntropyLoss()\n",
        "model.compile(criterion, 'adam')"
      ],
      "metadata": {
        "id": "UKkrlj7EL04J"
      },
      "execution_count": 19,
      "outputs": []
    },
    {
      "cell_type": "code",
      "source": [
        "data = data.to(DEVICE)"
      ],
      "metadata": {
        "id": "zFDxukJcMFQ2"
      },
      "execution_count": 20,
      "outputs": []
    },
    {
      "cell_type": "code",
      "source": [
        "results = model.fit(data, 200)"
      ],
      "metadata": {
        "colab": {
          "base_uri": "https://localhost:8080/"
        },
        "id": "A7DOoab4MMSV",
        "outputId": "e05cc32c-e755-420e-f369-0a2e80f71ee9"
      },
      "execution_count": 21,
      "outputs": [
        {
          "output_type": "stream",
          "name": "stderr",
          "text": [
            " 10%|█         | 21/201 [00:00<00:01, 100.23it/s]"
          ]
        },
        {
          "output_type": "stream",
          "name": "stdout",
          "text": [
            "Epoch   0 | Train Loss: 1.793 | Train Acc:  10.00% | Val Loss: 1.79 | Val Acc: 20.00%\n",
            "Epoch  10 | Train Loss: 1.213 | Train Acc:  50.00% | Val Loss: 1.21 | Val Acc: 75.60%\n",
            "Epoch  20 | Train Loss: 0.804 | Train Acc:  63.33% | Val Loss: 0.80 | Val Acc: 85.20%\n"
          ]
        },
        {
          "output_type": "stream",
          "name": "stderr",
          "text": [
            " 21%|██▏       | 43/201 [00:00<00:01, 104.30it/s]"
          ]
        },
        {
          "output_type": "stream",
          "name": "stdout",
          "text": [
            "Epoch  30 | Train Loss: 0.584 | Train Acc:  60.00% | Val Loss: 0.58 | Val Acc: 88.80%\n",
            "Epoch  40 | Train Loss: 0.411 | Train Acc:  66.67% | Val Loss: 0.41 | Val Acc: 91.60%\n",
            "Epoch  50 | Train Loss: 0.310 | Train Acc:  59.17% | Val Loss: 0.31 | Val Acc: 94.20%\n"
          ]
        },
        {
          "output_type": "stream",
          "name": "stderr",
          "text": [
            " 38%|███▊      | 76/201 [00:00<00:01, 101.39it/s]"
          ]
        },
        {
          "output_type": "stream",
          "name": "stdout",
          "text": [
            "Epoch  60 | Train Loss: 0.247 | Train Acc:  64.17% | Val Loss: 0.25 | Val Acc: 95.40%\n",
            "Epoch  70 | Train Loss: 0.181 | Train Acc:  64.17% | Val Loss: 0.18 | Val Acc: 96.60%\n"
          ]
        },
        {
          "output_type": "stream",
          "name": "stderr",
          "text": [
            " 50%|████▉     | 100/201 [00:00<00:00, 105.21it/s]"
          ]
        },
        {
          "output_type": "stream",
          "name": "stdout",
          "text": [
            "Epoch  80 | Train Loss: 0.171 | Train Acc:  64.17% | Val Loss: 0.17 | Val Acc: 96.00%\n",
            "Epoch  90 | Train Loss: 0.129 | Train Acc:  67.50% | Val Loss: 0.13 | Val Acc: 97.80%\n",
            "Epoch 100 | Train Loss: 0.114 | Train Acc:  65.83% | Val Loss: 0.11 | Val Acc: 98.20%\n"
          ]
        },
        {
          "output_type": "stream",
          "name": "stderr",
          "text": [
            " 64%|██████▍   | 129/201 [00:01<00:00, 122.78it/s]"
          ]
        },
        {
          "output_type": "stream",
          "name": "stdout",
          "text": [
            "Epoch 110 | Train Loss: 0.095 | Train Acc:  61.67% | Val Loss: 0.09 | Val Acc: 98.20%\n",
            "Epoch 120 | Train Loss: 0.086 | Train Acc:  63.33% | Val Loss: 0.09 | Val Acc: 98.00%\n",
            "Epoch 130 | Train Loss: 0.070 | Train Acc:  59.17% | Val Loss: 0.07 | Val Acc: 99.00%\n"
          ]
        },
        {
          "output_type": "stream",
          "name": "stderr",
          "text": [
            " 78%|███████▊  | 157/201 [00:01<00:00, 125.50it/s]"
          ]
        },
        {
          "output_type": "stream",
          "name": "stdout",
          "text": [
            "Epoch 140 | Train Loss: 0.066 | Train Acc:  60.00% | Val Loss: 0.07 | Val Acc: 98.80%\n",
            "Epoch 150 | Train Loss: 0.063 | Train Acc:  60.00% | Val Loss: 0.06 | Val Acc: 98.60%\n",
            "Epoch 160 | Train Loss: 0.062 | Train Acc:  63.33% | Val Loss: 0.06 | Val Acc: 98.80%\n"
          ]
        },
        {
          "output_type": "stream",
          "name": "stderr",
          "text": [
            " 93%|█████████▎| 186/201 [00:01<00:00, 133.00it/s]"
          ]
        },
        {
          "output_type": "stream",
          "name": "stdout",
          "text": [
            "Epoch 170 | Train Loss: 0.056 | Train Acc:  63.33% | Val Loss: 0.06 | Val Acc: 99.00%\n",
            "Epoch 180 | Train Loss: 0.061 | Train Acc:  60.83% | Val Loss: 0.06 | Val Acc: 99.00%\n",
            "Epoch 190 | Train Loss: 0.048 | Train Acc:  59.17% | Val Loss: 0.05 | Val Acc: 99.20%\n"
          ]
        },
        {
          "output_type": "stream",
          "name": "stderr",
          "text": [
            "100%|██████████| 201/201 [00:01<00:00, 117.05it/s]"
          ]
        },
        {
          "output_type": "stream",
          "name": "stdout",
          "text": [
            "Epoch 200 | Train Loss: 0.038 | Train Acc:  62.50% | Val Loss: 0.04 | Val Acc: 99.20%\n"
          ]
        },
        {
          "output_type": "stream",
          "name": "stderr",
          "text": [
            "\n"
          ]
        }
      ]
    },
    {
      "cell_type": "code",
      "source": [],
      "metadata": {
        "id": "hTeq3vAuNjB2"
      },
      "execution_count": null,
      "outputs": []
    }
  ]
}